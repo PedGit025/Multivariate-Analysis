{
 "cells": [
  {
   "cell_type": "code",
   "execution_count": 1,
   "id": "96c4294f-e0d5-4433-ad1a-98908b7e1c65",
   "metadata": {},
   "outputs": [],
   "source": [
    "import pandas as pd\n",
    "import numpy as np \n",
    "from sklearn.preprocessing import StandardScaler\n",
    "from sklearn.cross_decomposition import CCA\n",
    "from scipy.stats import chi2"
   ]
  },
  {
   "cell_type": "code",
   "execution_count": 2,
   "id": "eb2ded3c-40d3-4f3d-82f2-143ae19f33e1",
   "metadata": {},
   "outputs": [
    {
     "data": {
      "text/html": [
       "<div>\n",
       "<style scoped>\n",
       "    .dataframe tbody tr th:only-of-type {\n",
       "        vertical-align: middle;\n",
       "    }\n",
       "\n",
       "    .dataframe tbody tr th {\n",
       "        vertical-align: top;\n",
       "    }\n",
       "\n",
       "    .dataframe thead th {\n",
       "        text-align: right;\n",
       "    }\n",
       "</style>\n",
       "<table border=\"1\" class=\"dataframe\">\n",
       "  <thead>\n",
       "    <tr style=\"text-align: right;\">\n",
       "      <th></th>\n",
       "      <th>locus_of_control</th>\n",
       "      <th>self_concept</th>\n",
       "      <th>motivation</th>\n",
       "      <th>read</th>\n",
       "      <th>write</th>\n",
       "      <th>math</th>\n",
       "      <th>science</th>\n",
       "    </tr>\n",
       "  </thead>\n",
       "  <tbody>\n",
       "    <tr>\n",
       "      <th>0</th>\n",
       "      <td>-0.84</td>\n",
       "      <td>-0.24</td>\n",
       "      <td>1.0</td>\n",
       "      <td>54.8</td>\n",
       "      <td>64.5</td>\n",
       "      <td>44.5</td>\n",
       "      <td>52.6</td>\n",
       "    </tr>\n",
       "  </tbody>\n",
       "</table>\n",
       "</div>"
      ],
      "text/plain": [
       "   locus_of_control  self_concept  motivation  read  write  math  science\n",
       "0             -0.84         -0.24         1.0  54.8   64.5  44.5     52.6"
      ]
     },
     "execution_count": 2,
     "metadata": {},
     "output_type": "execute_result"
    }
   ],
   "source": [
    "df = pd.read_csv('./cca_data.csv')\n",
    "\n",
    "df.head(1)"
   ]
  },
  {
   "cell_type": "code",
   "execution_count": 4,
   "id": "e24f4cca-99ab-490d-8b7d-5ef6d2a7473e",
   "metadata": {},
   "outputs": [
    {
     "name": "stdout",
     "output_type": "stream",
     "text": [
      "<class 'pandas.core.frame.DataFrame'>\n",
      "RangeIndex: 600 entries, 0 to 599\n",
      "Data columns (total 7 columns):\n",
      " #   Column            Non-Null Count  Dtype  \n",
      "---  ------            --------------  -----  \n",
      " 0   locus_of_control  600 non-null    float64\n",
      " 1   self_concept      600 non-null    float64\n",
      " 2   motivation        600 non-null    float64\n",
      " 3   read              600 non-null    float64\n",
      " 4   write             600 non-null    float64\n",
      " 5   math              600 non-null    float64\n",
      " 6   science           600 non-null    float64\n",
      "dtypes: float64(7)\n",
      "memory usage: 32.9 KB\n"
     ]
    }
   ],
   "source": [
    "df.info()"
   ]
  },
  {
   "cell_type": "code",
   "execution_count": 5,
   "id": "aa04bcb1-c0eb-4a58-b20f-ba0a1e34c3f0",
   "metadata": {},
   "outputs": [
    {
     "data": {
      "text/html": [
       "<div>\n",
       "<style scoped>\n",
       "    .dataframe tbody tr th:only-of-type {\n",
       "        vertical-align: middle;\n",
       "    }\n",
       "\n",
       "    .dataframe tbody tr th {\n",
       "        vertical-align: top;\n",
       "    }\n",
       "\n",
       "    .dataframe thead th {\n",
       "        text-align: right;\n",
       "    }\n",
       "</style>\n",
       "<table border=\"1\" class=\"dataframe\">\n",
       "  <thead>\n",
       "    <tr style=\"text-align: right;\">\n",
       "      <th></th>\n",
       "      <th>locus_of_control</th>\n",
       "      <th>self_concept</th>\n",
       "      <th>motivation</th>\n",
       "      <th>read</th>\n",
       "      <th>write</th>\n",
       "      <th>math</th>\n",
       "      <th>science</th>\n",
       "    </tr>\n",
       "  </thead>\n",
       "  <tbody>\n",
       "    <tr>\n",
       "      <th>count</th>\n",
       "      <td>600.000000</td>\n",
       "      <td>600.000000</td>\n",
       "      <td>600.000000</td>\n",
       "      <td>600.000000</td>\n",
       "      <td>600.000000</td>\n",
       "      <td>600.000000</td>\n",
       "      <td>600.000000</td>\n",
       "    </tr>\n",
       "    <tr>\n",
       "      <th>mean</th>\n",
       "      <td>0.096533</td>\n",
       "      <td>0.004917</td>\n",
       "      <td>0.660833</td>\n",
       "      <td>51.901833</td>\n",
       "      <td>52.384833</td>\n",
       "      <td>51.849000</td>\n",
       "      <td>51.763333</td>\n",
       "    </tr>\n",
       "    <tr>\n",
       "      <th>std</th>\n",
       "      <td>0.670280</td>\n",
       "      <td>0.705513</td>\n",
       "      <td>0.342729</td>\n",
       "      <td>10.102983</td>\n",
       "      <td>9.726455</td>\n",
       "      <td>9.414736</td>\n",
       "      <td>9.706179</td>\n",
       "    </tr>\n",
       "    <tr>\n",
       "      <th>min</th>\n",
       "      <td>-2.230000</td>\n",
       "      <td>-2.620000</td>\n",
       "      <td>0.000000</td>\n",
       "      <td>28.300000</td>\n",
       "      <td>25.500000</td>\n",
       "      <td>31.800000</td>\n",
       "      <td>26.000000</td>\n",
       "    </tr>\n",
       "    <tr>\n",
       "      <th>25%</th>\n",
       "      <td>-0.372500</td>\n",
       "      <td>-0.300000</td>\n",
       "      <td>0.330000</td>\n",
       "      <td>44.200000</td>\n",
       "      <td>44.300000</td>\n",
       "      <td>44.500000</td>\n",
       "      <td>44.400000</td>\n",
       "    </tr>\n",
       "    <tr>\n",
       "      <th>50%</th>\n",
       "      <td>0.210000</td>\n",
       "      <td>0.030000</td>\n",
       "      <td>0.670000</td>\n",
       "      <td>52.100000</td>\n",
       "      <td>54.100000</td>\n",
       "      <td>51.300000</td>\n",
       "      <td>52.600000</td>\n",
       "    </tr>\n",
       "    <tr>\n",
       "      <th>75%</th>\n",
       "      <td>0.510000</td>\n",
       "      <td>0.440000</td>\n",
       "      <td>1.000000</td>\n",
       "      <td>60.100000</td>\n",
       "      <td>59.900000</td>\n",
       "      <td>58.375000</td>\n",
       "      <td>58.650000</td>\n",
       "    </tr>\n",
       "    <tr>\n",
       "      <th>max</th>\n",
       "      <td>1.360000</td>\n",
       "      <td>1.190000</td>\n",
       "      <td>1.000000</td>\n",
       "      <td>76.000000</td>\n",
       "      <td>67.100000</td>\n",
       "      <td>75.500000</td>\n",
       "      <td>74.200000</td>\n",
       "    </tr>\n",
       "  </tbody>\n",
       "</table>\n",
       "</div>"
      ],
      "text/plain": [
       "       locus_of_control  self_concept  motivation        read       write  \\\n",
       "count        600.000000    600.000000  600.000000  600.000000  600.000000   \n",
       "mean           0.096533      0.004917    0.660833   51.901833   52.384833   \n",
       "std            0.670280      0.705513    0.342729   10.102983    9.726455   \n",
       "min           -2.230000     -2.620000    0.000000   28.300000   25.500000   \n",
       "25%           -0.372500     -0.300000    0.330000   44.200000   44.300000   \n",
       "50%            0.210000      0.030000    0.670000   52.100000   54.100000   \n",
       "75%            0.510000      0.440000    1.000000   60.100000   59.900000   \n",
       "max            1.360000      1.190000    1.000000   76.000000   67.100000   \n",
       "\n",
       "             math     science  \n",
       "count  600.000000  600.000000  \n",
       "mean    51.849000   51.763333  \n",
       "std      9.414736    9.706179  \n",
       "min     31.800000   26.000000  \n",
       "25%     44.500000   44.400000  \n",
       "50%     51.300000   52.600000  \n",
       "75%     58.375000   58.650000  \n",
       "max     75.500000   74.200000  "
      ]
     },
     "execution_count": 5,
     "metadata": {},
     "output_type": "execute_result"
    }
   ],
   "source": [
    "df.describe()"
   ]
  },
  {
   "cell_type": "code",
   "execution_count": 6,
   "id": "bd10452b-2cb5-44a8-96e3-0a1c7963c2ae",
   "metadata": {},
   "outputs": [
    {
     "data": {
      "text/plain": [
       "(600, 7)"
      ]
     },
     "execution_count": 6,
     "metadata": {},
     "output_type": "execute_result"
    }
   ],
   "source": [
    "df.shape"
   ]
  },
  {
   "cell_type": "code",
   "execution_count": 7,
   "id": "ade5b4d4-be3f-418a-b562-e2e82fc9e969",
   "metadata": {},
   "outputs": [
    {
     "data": {
      "text/plain": [
       "7"
      ]
     },
     "execution_count": 7,
     "metadata": {},
     "output_type": "execute_result"
    }
   ],
   "source": [
    "df.shape[1]"
   ]
  },
  {
   "cell_type": "code",
   "execution_count": 20,
   "id": "352c45c5-d06b-4cc9-9231-1f6dffdd8f06",
   "metadata": {},
   "outputs": [
    {
     "data": {
      "text/plain": [
       "(   Dimension  Canonical Corr  Wilks' Lambda  Chi-Square  df  p-value\n",
       " 0          1        0.446436       0.800694  132.254127  12  0.00000\n",
       " 1          2        0.153359       0.781863  146.415113   6  0.00000\n",
       " 2          3        0.022503       0.781467  146.716501   2  0.00000,\n",
       "                       Dim1      Dim2      Dim3\n",
       " locus_of_control  0.914292 -0.393641 -0.095478\n",
       " self_concept      0.099976 -0.421308  0.901390\n",
       " motivation        0.585314  0.606133  0.538526,\n",
       "              Dim1      Dim2      Dim3\n",
       " read     0.880434 -0.244905  0.273057\n",
       " write    0.910126  0.220975 -0.339797\n",
       " math     0.799992 -0.187928  0.283571\n",
       " science  0.694107 -0.675884 -0.237673,\n",
       "       redundancy_X  redundancy_Y  Redundancy_X to Y  Redundancy_Y to X\n",
       " Dim1      0.396173      0.681316           0.078959           0.135790\n",
       " Dim2      0.233283      0.150236           0.005487           0.003533\n",
       " Dim3      0.370544      0.081731           0.000188           0.000041)"
      ]
     },
     "execution_count": 20,
     "metadata": {},
     "output_type": "execute_result"
    }
   ],
   "source": [
    "# 'split' the data set into phychological and subject sets\n",
    "x = df[['locus_of_control', 'self_concept', 'motivation']]\n",
    "y = df[['read', 'write', 'math', 'science']]\n",
    "\n",
    "# standardize\n",
    "X = StandardScaler().fit_transform(x)\n",
    "Y = StandardScaler().fit_transform(y)\n",
    "\n",
    "# instantiate cca with Physocological group\n",
    "cca = CCA(n_components=X.shape[1])\n",
    "U, V = cca.fit_transform(X, Y)\n",
    "\n",
    "# canonical correlations\n",
    "corrs = np.array([np.corrcoef(U[:, i], V[:, i])[0, 1] for i in range(X.shape[1])])\n",
    "\n",
    "# Compute Wilks' Lambda, chi-square, p-values\n",
    "n, p, q = X.shape[0], X.shape[1], Y.shape[1]\n",
    "wilks = np.cumprod(1 - corrs**2)\n",
    "stats = []\n",
    "for i, j in enumerate(wilks):\n",
    "    df_val = (p - i) * (q - i)\n",
    "    m = n - 1 - 0.5 * (p + q + 1)\n",
    "    chi_stat = -m * np.log(j)\n",
    "    p_val = 1 - chi2.cdf(chi_stat, df_val)\n",
    "    stats.append({\n",
    "        'Dimension': i + 1,\n",
    "        'Canonical Corr': corrs[i],\n",
    "        \"Wilks' Lambda\": j,\n",
    "        'Chi-Square': chi_stat,\n",
    "        'df': df_val,\n",
    "        'p-value': f\"{p_val:.5f}\"\n",
    "    })\n",
    "summary_df = pd.DataFrame(stats)\n",
    "\n",
    "# Canonical loadings (coeffs)\n",
    "loadings_X = np.corrcoef(X.T, U.T)[0:p, p:]\n",
    "loadings_Y = np.corrcoef(Y.T, V.T)[0:q, q:]\n",
    "loadings_X_df = pd.DataFrame(loadings_X, index=x.columns, columns=[f'Dim{i+1}' for i in range(X.shape[1])])\n",
    "loadings_Y_df = pd.DataFrame(loadings_Y, index=y.columns, columns=[f'Dim{i+1}' for i in range(X.shape[1])])\n",
    "\n",
    "# Redundancy indices\n",
    "redundancy_X = loadings_X_df.pow(2).mean()\n",
    "redundancy_Y = loadings_Y_df.pow(2).mean()\n",
    "redundancy = pd.DataFrame({\n",
    "    'redundancy_X': redundancy_X,\n",
    "    'redundancy_Y': redundancy_Y,\n",
    "    'Redundancy_X to Y': redundancy_X * corrs**2,\n",
    "    'Redundancy_Y to X': redundancy_Y * corrs**2\n",
    "}, index=[f'Dim{j+1}' for j in range(X.shape[1])])\n",
    "\n",
    "summary_df, loadings_X_df, loadings_Y_df, redundancy"
   ]
  },
  {
   "cell_type": "code",
   "execution_count": 28,
   "id": "a0c681d2-be97-4011-9bc6-cbbd3787dce6",
   "metadata": {},
   "outputs": [
    {
     "data": {
      "text/plain": [
       "(                      Dim1      Dim2      Dim3\n",
       " locus_of_control  0.408171 -0.060368 -0.002149\n",
       " self_concept      0.044630 -0.064611  0.020284\n",
       " motivation        0.261310  0.092956  0.012119,\n",
       "              Dim1      Dim2      Dim3\n",
       " read     0.393058 -0.037552  0.006145\n",
       " write    0.406313  0.033895 -0.007647\n",
       " math     0.357146 -0.028815  0.006381\n",
       " science  0.309875 -0.103648 -0.005349)"
      ]
     },
     "execution_count": 28,
     "metadata": {},
     "output_type": "execute_result"
    }
   ],
   "source": [
    "# cross-loadings\n",
    "# corr between phychological and subjects\n",
    "cross_X_V = np.corrcoef(X.T, V.T)[0:X.shape[1], X.shape[1]:]\n",
    "\n",
    "# corr between subjects and phychological \n",
    "cross_Y_U = np.corrcoef(Y.T, U.T)[0:Y.shape[1], Y.shape[1]:]\n",
    "\n",
    "# to df\n",
    "cross_X_V_df = pd.DataFrame(cross_X_V, index=x.columns, columns=[f'Dim{i+1}' for i in range(X.shape[1])])\n",
    "cross_Y_U_df = pd.DataFrame(cross_Y_U, index=y.columns, columns=[f'Dim{i+1}' for i in range(X.shape[1])])\n",
    "\n",
    "cross_X_V_df, cross_Y_U_df"
   ]
  },
  {
   "cell_type": "code",
   "execution_count": 21,
   "id": "ecab87aa-1685-43eb-800e-86dd5d8f445a",
   "metadata": {},
   "outputs": [
    {
     "data": {
      "text/html": [
       "<div>\n",
       "<style scoped>\n",
       "    .dataframe tbody tr th:only-of-type {\n",
       "        vertical-align: middle;\n",
       "    }\n",
       "\n",
       "    .dataframe tbody tr th {\n",
       "        vertical-align: top;\n",
       "    }\n",
       "\n",
       "    .dataframe thead th {\n",
       "        text-align: right;\n",
       "    }\n",
       "</style>\n",
       "<table border=\"1\" class=\"dataframe\">\n",
       "  <thead>\n",
       "    <tr style=\"text-align: right;\">\n",
       "      <th></th>\n",
       "      <th>Dimension</th>\n",
       "      <th>Canonical Corr</th>\n",
       "      <th>Wilks' Lambda</th>\n",
       "      <th>Chi-Square</th>\n",
       "      <th>df</th>\n",
       "      <th>p-value</th>\n",
       "    </tr>\n",
       "  </thead>\n",
       "  <tbody>\n",
       "    <tr>\n",
       "      <th>0</th>\n",
       "      <td>1</td>\n",
       "      <td>0.446436</td>\n",
       "      <td>0.800694</td>\n",
       "      <td>132.254127</td>\n",
       "      <td>12</td>\n",
       "      <td>0.00000</td>\n",
       "    </tr>\n",
       "    <tr>\n",
       "      <th>1</th>\n",
       "      <td>2</td>\n",
       "      <td>0.153359</td>\n",
       "      <td>0.781863</td>\n",
       "      <td>146.415113</td>\n",
       "      <td>6</td>\n",
       "      <td>0.00000</td>\n",
       "    </tr>\n",
       "    <tr>\n",
       "      <th>2</th>\n",
       "      <td>3</td>\n",
       "      <td>0.022503</td>\n",
       "      <td>0.781467</td>\n",
       "      <td>146.716501</td>\n",
       "      <td>2</td>\n",
       "      <td>0.00000</td>\n",
       "    </tr>\n",
       "  </tbody>\n",
       "</table>\n",
       "</div>"
      ],
      "text/plain": [
       "   Dimension  Canonical Corr  Wilks' Lambda  Chi-Square  df  p-value\n",
       "0          1        0.446436       0.800694  132.254127  12  0.00000\n",
       "1          2        0.153359       0.781863  146.415113   6  0.00000\n",
       "2          3        0.022503       0.781467  146.716501   2  0.00000"
      ]
     },
     "execution_count": 21,
     "metadata": {},
     "output_type": "execute_result"
    }
   ],
   "source": [
    "summary_df"
   ]
  },
  {
   "cell_type": "code",
   "execution_count": 36,
   "id": "cd62d144-15a9-4567-b025-4a3ee34eba72",
   "metadata": {},
   "outputs": [
    {
     "name": "stdout",
     "output_type": "stream",
     "text": [
      "physcological group loadings\n"
     ]
    },
    {
     "data": {
      "text/html": [
       "<div>\n",
       "<style scoped>\n",
       "    .dataframe tbody tr th:only-of-type {\n",
       "        vertical-align: middle;\n",
       "    }\n",
       "\n",
       "    .dataframe tbody tr th {\n",
       "        vertical-align: top;\n",
       "    }\n",
       "\n",
       "    .dataframe thead th {\n",
       "        text-align: right;\n",
       "    }\n",
       "</style>\n",
       "<table border=\"1\" class=\"dataframe\">\n",
       "  <thead>\n",
       "    <tr style=\"text-align: right;\">\n",
       "      <th></th>\n",
       "      <th>Dim1</th>\n",
       "      <th>Dim2</th>\n",
       "      <th>Dim3</th>\n",
       "    </tr>\n",
       "  </thead>\n",
       "  <tbody>\n",
       "    <tr>\n",
       "      <th>locus_of_control</th>\n",
       "      <td>0.914292</td>\n",
       "      <td>-0.393641</td>\n",
       "      <td>-0.095478</td>\n",
       "    </tr>\n",
       "    <tr>\n",
       "      <th>self_concept</th>\n",
       "      <td>0.099976</td>\n",
       "      <td>-0.421308</td>\n",
       "      <td>0.901390</td>\n",
       "    </tr>\n",
       "    <tr>\n",
       "      <th>motivation</th>\n",
       "      <td>0.585314</td>\n",
       "      <td>0.606133</td>\n",
       "      <td>0.538526</td>\n",
       "    </tr>\n",
       "  </tbody>\n",
       "</table>\n",
       "</div>"
      ],
      "text/plain": [
       "                      Dim1      Dim2      Dim3\n",
       "locus_of_control  0.914292 -0.393641 -0.095478\n",
       "self_concept      0.099976 -0.421308  0.901390\n",
       "motivation        0.585314  0.606133  0.538526"
      ]
     },
     "execution_count": 36,
     "metadata": {},
     "output_type": "execute_result"
    }
   ],
   "source": [
    "print('physcological group loadings')\n",
    "loadings_X_df"
   ]
  },
  {
   "cell_type": "code",
   "execution_count": 37,
   "id": "74157ea2-f328-446b-8aad-28c0de877e3b",
   "metadata": {},
   "outputs": [
    {
     "name": "stdout",
     "output_type": "stream",
     "text": [
      "subject group loadings\n"
     ]
    },
    {
     "data": {
      "text/html": [
       "<div>\n",
       "<style scoped>\n",
       "    .dataframe tbody tr th:only-of-type {\n",
       "        vertical-align: middle;\n",
       "    }\n",
       "\n",
       "    .dataframe tbody tr th {\n",
       "        vertical-align: top;\n",
       "    }\n",
       "\n",
       "    .dataframe thead th {\n",
       "        text-align: right;\n",
       "    }\n",
       "</style>\n",
       "<table border=\"1\" class=\"dataframe\">\n",
       "  <thead>\n",
       "    <tr style=\"text-align: right;\">\n",
       "      <th></th>\n",
       "      <th>Dim1</th>\n",
       "      <th>Dim2</th>\n",
       "      <th>Dim3</th>\n",
       "    </tr>\n",
       "  </thead>\n",
       "  <tbody>\n",
       "    <tr>\n",
       "      <th>read</th>\n",
       "      <td>0.880434</td>\n",
       "      <td>-0.244905</td>\n",
       "      <td>0.273057</td>\n",
       "    </tr>\n",
       "    <tr>\n",
       "      <th>write</th>\n",
       "      <td>0.910126</td>\n",
       "      <td>0.220975</td>\n",
       "      <td>-0.339797</td>\n",
       "    </tr>\n",
       "    <tr>\n",
       "      <th>math</th>\n",
       "      <td>0.799992</td>\n",
       "      <td>-0.187928</td>\n",
       "      <td>0.283571</td>\n",
       "    </tr>\n",
       "    <tr>\n",
       "      <th>science</th>\n",
       "      <td>0.694107</td>\n",
       "      <td>-0.675884</td>\n",
       "      <td>-0.237673</td>\n",
       "    </tr>\n",
       "  </tbody>\n",
       "</table>\n",
       "</div>"
      ],
      "text/plain": [
       "             Dim1      Dim2      Dim3\n",
       "read     0.880434 -0.244905  0.273057\n",
       "write    0.910126  0.220975 -0.339797\n",
       "math     0.799992 -0.187928  0.283571\n",
       "science  0.694107 -0.675884 -0.237673"
      ]
     },
     "execution_count": 37,
     "metadata": {},
     "output_type": "execute_result"
    }
   ],
   "source": [
    "print('subject group loadings')\n",
    "loadings_Y_df"
   ]
  },
  {
   "cell_type": "code",
   "execution_count": 25,
   "id": "607462b4-dfc6-4a35-963f-0436b0b8e4dc",
   "metadata": {},
   "outputs": [
    {
     "data": {
      "text/html": [
       "<div>\n",
       "<style scoped>\n",
       "    .dataframe tbody tr th:only-of-type {\n",
       "        vertical-align: middle;\n",
       "    }\n",
       "\n",
       "    .dataframe tbody tr th {\n",
       "        vertical-align: top;\n",
       "    }\n",
       "\n",
       "    .dataframe thead th {\n",
       "        text-align: right;\n",
       "    }\n",
       "</style>\n",
       "<table border=\"1\" class=\"dataframe\">\n",
       "  <thead>\n",
       "    <tr style=\"text-align: right;\">\n",
       "      <th></th>\n",
       "      <th>redundancy_X</th>\n",
       "      <th>redundancy_Y</th>\n",
       "      <th>Redundancy_X to Y</th>\n",
       "      <th>Redundancy_Y to X</th>\n",
       "    </tr>\n",
       "  </thead>\n",
       "  <tbody>\n",
       "    <tr>\n",
       "      <th>Dim1</th>\n",
       "      <td>0.396173</td>\n",
       "      <td>0.681316</td>\n",
       "      <td>0.078959</td>\n",
       "      <td>0.135790</td>\n",
       "    </tr>\n",
       "    <tr>\n",
       "      <th>Dim2</th>\n",
       "      <td>0.233283</td>\n",
       "      <td>0.150236</td>\n",
       "      <td>0.005487</td>\n",
       "      <td>0.003533</td>\n",
       "    </tr>\n",
       "    <tr>\n",
       "      <th>Dim3</th>\n",
       "      <td>0.370544</td>\n",
       "      <td>0.081731</td>\n",
       "      <td>0.000188</td>\n",
       "      <td>0.000041</td>\n",
       "    </tr>\n",
       "  </tbody>\n",
       "</table>\n",
       "</div>"
      ],
      "text/plain": [
       "      redundancy_X  redundancy_Y  Redundancy_X to Y  Redundancy_Y to X\n",
       "Dim1      0.396173      0.681316           0.078959           0.135790\n",
       "Dim2      0.233283      0.150236           0.005487           0.003533\n",
       "Dim3      0.370544      0.081731           0.000188           0.000041"
      ]
     },
     "execution_count": 25,
     "metadata": {},
     "output_type": "execute_result"
    }
   ],
   "source": [
    "redundancy"
   ]
  },
  {
   "cell_type": "code",
   "execution_count": 34,
   "id": "a9e4f790-d554-4689-af83-5ab27afda35a",
   "metadata": {},
   "outputs": [
    {
     "name": "stdout",
     "output_type": "stream",
     "text": [
      "Cross loadings of psychological variables (X) on academic canonical variates (V)\n"
     ]
    },
    {
     "data": {
      "text/html": [
       "<div>\n",
       "<style scoped>\n",
       "    .dataframe tbody tr th:only-of-type {\n",
       "        vertical-align: middle;\n",
       "    }\n",
       "\n",
       "    .dataframe tbody tr th {\n",
       "        vertical-align: top;\n",
       "    }\n",
       "\n",
       "    .dataframe thead th {\n",
       "        text-align: right;\n",
       "    }\n",
       "</style>\n",
       "<table border=\"1\" class=\"dataframe\">\n",
       "  <thead>\n",
       "    <tr style=\"text-align: right;\">\n",
       "      <th></th>\n",
       "      <th>Dim1</th>\n",
       "      <th>Dim2</th>\n",
       "      <th>Dim3</th>\n",
       "    </tr>\n",
       "  </thead>\n",
       "  <tbody>\n",
       "    <tr>\n",
       "      <th>locus_of_control</th>\n",
       "      <td>0.408171</td>\n",
       "      <td>-0.060368</td>\n",
       "      <td>-0.002149</td>\n",
       "    </tr>\n",
       "    <tr>\n",
       "      <th>self_concept</th>\n",
       "      <td>0.044630</td>\n",
       "      <td>-0.064611</td>\n",
       "      <td>0.020284</td>\n",
       "    </tr>\n",
       "    <tr>\n",
       "      <th>motivation</th>\n",
       "      <td>0.261310</td>\n",
       "      <td>0.092956</td>\n",
       "      <td>0.012119</td>\n",
       "    </tr>\n",
       "  </tbody>\n",
       "</table>\n",
       "</div>"
      ],
      "text/plain": [
       "                      Dim1      Dim2      Dim3\n",
       "locus_of_control  0.408171 -0.060368 -0.002149\n",
       "self_concept      0.044630 -0.064611  0.020284\n",
       "motivation        0.261310  0.092956  0.012119"
      ]
     },
     "execution_count": 34,
     "metadata": {},
     "output_type": "execute_result"
    }
   ],
   "source": [
    "print('Cross loadings of psychological variables (X) on academic canonical variates (V)')\n",
    "cross_X_V_df"
   ]
  },
  {
   "cell_type": "code",
   "execution_count": 35,
   "id": "15992a67-33c8-4c96-bec2-9e5e7f2ee258",
   "metadata": {},
   "outputs": [
    {
     "name": "stdout",
     "output_type": "stream",
     "text": [
      "Cross loadings of academic variables (Y) on psychological canonical variates (U)\n"
     ]
    },
    {
     "data": {
      "text/html": [
       "<div>\n",
       "<style scoped>\n",
       "    .dataframe tbody tr th:only-of-type {\n",
       "        vertical-align: middle;\n",
       "    }\n",
       "\n",
       "    .dataframe tbody tr th {\n",
       "        vertical-align: top;\n",
       "    }\n",
       "\n",
       "    .dataframe thead th {\n",
       "        text-align: right;\n",
       "    }\n",
       "</style>\n",
       "<table border=\"1\" class=\"dataframe\">\n",
       "  <thead>\n",
       "    <tr style=\"text-align: right;\">\n",
       "      <th></th>\n",
       "      <th>Dim1</th>\n",
       "      <th>Dim2</th>\n",
       "      <th>Dim3</th>\n",
       "    </tr>\n",
       "  </thead>\n",
       "  <tbody>\n",
       "    <tr>\n",
       "      <th>read</th>\n",
       "      <td>0.393058</td>\n",
       "      <td>-0.037552</td>\n",
       "      <td>0.006145</td>\n",
       "    </tr>\n",
       "    <tr>\n",
       "      <th>write</th>\n",
       "      <td>0.406313</td>\n",
       "      <td>0.033895</td>\n",
       "      <td>-0.007647</td>\n",
       "    </tr>\n",
       "    <tr>\n",
       "      <th>math</th>\n",
       "      <td>0.357146</td>\n",
       "      <td>-0.028815</td>\n",
       "      <td>0.006381</td>\n",
       "    </tr>\n",
       "    <tr>\n",
       "      <th>science</th>\n",
       "      <td>0.309875</td>\n",
       "      <td>-0.103648</td>\n",
       "      <td>-0.005349</td>\n",
       "    </tr>\n",
       "  </tbody>\n",
       "</table>\n",
       "</div>"
      ],
      "text/plain": [
       "             Dim1      Dim2      Dim3\n",
       "read     0.393058 -0.037552  0.006145\n",
       "write    0.406313  0.033895 -0.007647\n",
       "math     0.357146 -0.028815  0.006381\n",
       "science  0.309875 -0.103648 -0.005349"
      ]
     },
     "execution_count": 35,
     "metadata": {},
     "output_type": "execute_result"
    }
   ],
   "source": [
    "print('Cross loadings of academic variables (Y) on psychological canonical variates (U)')\n",
    "cross_Y_U_df"
   ]
  },
  {
   "cell_type": "code",
   "execution_count": 38,
   "id": "2b7e6a61-077b-490e-94b2-62f1a7e56d15",
   "metadata": {},
   "outputs": [
    {
     "data": {
      "text/plain": [
       "(                      Dim1      Dim2      Dim3\n",
       " locus_of_control  0.876809 -0.472235 -0.090557\n",
       " self_concept     -0.174754 -0.488415  0.854934\n",
       " motivation        0.447959  0.733788  0.510771,\n",
       "              Dim1      Dim2      Dim3\n",
       " read     0.617204 -0.335039  0.496473\n",
       " write    0.743148  0.257804 -0.599997\n",
       " math     0.253335 -0.121205  0.465700\n",
       " science -0.051115 -0.898107 -0.420289)"
      ]
     },
     "execution_count": 38,
     "metadata": {},
     "output_type": "execute_result"
    }
   ],
   "source": [
    "# Get canonical weights (coefficients used to compute U and V from X and Y)\n",
    "weights_X = pd.DataFrame(cca.x_weights_, index=x.columns, columns=[f'Dim{i+1}' for i in range(X.shape[1])])\n",
    "weights_Y = pd.DataFrame(cca.y_weights_, index=y.columns, columns=[f'Dim{i+1}' for i in range(X.shape[1])])\n",
    "\n",
    "weights_X, weights_Y\n"
   ]
  },
  {
   "cell_type": "code",
   "execution_count": 42,
   "id": "1bdfdbb1-54f5-4bca-940f-16b759906087",
   "metadata": {},
   "outputs": [
    {
     "name": "stdout",
     "output_type": "stream",
     "text": [
      "Psy weights\n"
     ]
    },
    {
     "data": {
      "text/html": [
       "<div>\n",
       "<style scoped>\n",
       "    .dataframe tbody tr th:only-of-type {\n",
       "        vertical-align: middle;\n",
       "    }\n",
       "\n",
       "    .dataframe tbody tr th {\n",
       "        vertical-align: top;\n",
       "    }\n",
       "\n",
       "    .dataframe thead th {\n",
       "        text-align: right;\n",
       "    }\n",
       "</style>\n",
       "<table border=\"1\" class=\"dataframe\">\n",
       "  <thead>\n",
       "    <tr style=\"text-align: right;\">\n",
       "      <th></th>\n",
       "      <th>Dim1</th>\n",
       "      <th>Dim2</th>\n",
       "      <th>Dim3</th>\n",
       "    </tr>\n",
       "  </thead>\n",
       "  <tbody>\n",
       "    <tr>\n",
       "      <th>locus_of_control</th>\n",
       "      <td>0.876809</td>\n",
       "      <td>-0.472235</td>\n",
       "      <td>-0.090557</td>\n",
       "    </tr>\n",
       "    <tr>\n",
       "      <th>self_concept</th>\n",
       "      <td>-0.174754</td>\n",
       "      <td>-0.488415</td>\n",
       "      <td>0.854934</td>\n",
       "    </tr>\n",
       "    <tr>\n",
       "      <th>motivation</th>\n",
       "      <td>0.447959</td>\n",
       "      <td>0.733788</td>\n",
       "      <td>0.510771</td>\n",
       "    </tr>\n",
       "  </tbody>\n",
       "</table>\n",
       "</div>"
      ],
      "text/plain": [
       "                      Dim1      Dim2      Dim3\n",
       "locus_of_control  0.876809 -0.472235 -0.090557\n",
       "self_concept     -0.174754 -0.488415  0.854934\n",
       "motivation        0.447959  0.733788  0.510771"
      ]
     },
     "execution_count": 42,
     "metadata": {},
     "output_type": "execute_result"
    }
   ],
   "source": [
    "print('Psy weights')\n",
    "weights_X"
   ]
  },
  {
   "cell_type": "code",
   "execution_count": 43,
   "id": "e33d6ff9-67a4-4097-9391-6200748af315",
   "metadata": {},
   "outputs": [
    {
     "name": "stdout",
     "output_type": "stream",
     "text": [
      "subject weights\n"
     ]
    },
    {
     "data": {
      "text/html": [
       "<div>\n",
       "<style scoped>\n",
       "    .dataframe tbody tr th:only-of-type {\n",
       "        vertical-align: middle;\n",
       "    }\n",
       "\n",
       "    .dataframe tbody tr th {\n",
       "        vertical-align: top;\n",
       "    }\n",
       "\n",
       "    .dataframe thead th {\n",
       "        text-align: right;\n",
       "    }\n",
       "</style>\n",
       "<table border=\"1\" class=\"dataframe\">\n",
       "  <thead>\n",
       "    <tr style=\"text-align: right;\">\n",
       "      <th></th>\n",
       "      <th>Dim1</th>\n",
       "      <th>Dim2</th>\n",
       "      <th>Dim3</th>\n",
       "    </tr>\n",
       "  </thead>\n",
       "  <tbody>\n",
       "    <tr>\n",
       "      <th>read</th>\n",
       "      <td>0.617204</td>\n",
       "      <td>-0.335039</td>\n",
       "      <td>0.496473</td>\n",
       "    </tr>\n",
       "    <tr>\n",
       "      <th>write</th>\n",
       "      <td>0.743148</td>\n",
       "      <td>0.257804</td>\n",
       "      <td>-0.599997</td>\n",
       "    </tr>\n",
       "    <tr>\n",
       "      <th>math</th>\n",
       "      <td>0.253335</td>\n",
       "      <td>-0.121205</td>\n",
       "      <td>0.465700</td>\n",
       "    </tr>\n",
       "    <tr>\n",
       "      <th>science</th>\n",
       "      <td>-0.051115</td>\n",
       "      <td>-0.898107</td>\n",
       "      <td>-0.420289</td>\n",
       "    </tr>\n",
       "  </tbody>\n",
       "</table>\n",
       "</div>"
      ],
      "text/plain": [
       "             Dim1      Dim2      Dim3\n",
       "read     0.617204 -0.335039  0.496473\n",
       "write    0.743148  0.257804 -0.599997\n",
       "math     0.253335 -0.121205  0.465700\n",
       "science -0.051115 -0.898107 -0.420289"
      ]
     },
     "execution_count": 43,
     "metadata": {},
     "output_type": "execute_result"
    }
   ],
   "source": [
    "print('subject weights')\n",
    "weights_Y"
   ]
  },
  {
   "cell_type": "code",
   "execution_count": null,
   "id": "ff3805ee-cde9-409d-adf0-0795bbd81e77",
   "metadata": {},
   "outputs": [],
   "source": []
  }
 ],
 "metadata": {
  "kernelspec": {
   "display_name": "Python 3 (ipykernel)",
   "language": "python",
   "name": "python3"
  },
  "language_info": {
   "codemirror_mode": {
    "name": "ipython",
    "version": 3
   },
   "file_extension": ".py",
   "mimetype": "text/x-python",
   "name": "python",
   "nbconvert_exporter": "python",
   "pygments_lexer": "ipython3",
   "version": "3.12.7"
  }
 },
 "nbformat": 4,
 "nbformat_minor": 5
}
